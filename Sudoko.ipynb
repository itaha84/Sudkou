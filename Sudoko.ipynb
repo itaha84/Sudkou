{
 "cells": [
  {
   "cell_type": "code",
   "execution_count": 1,
   "metadata": {},
   "outputs": [],
   "source": [
    "import numpy as np"
   ]
  },
  {
   "cell_type": "code",
   "execution_count": 2,
   "metadata": {},
   "outputs": [],
   "source": [
    "board=[[7,8,0,4,0,0,1,2,0],\n",
    "        [6,0,0,0,7,5,0,0,9],\n",
    "        [0,0,0,6,0,1,0,7,8],\n",
    "        [0,0,7,0,4,0,2,6,0],\n",
    "        [0,0,1,0,5,0,9,3,0],\n",
    "        [9,0,4,0,6,0,0,0,5],\n",
    "        [0,7,0,3,0,0,0,1,2],\n",
    "        [1,2,0,0,0,7,4,0,0],\n",
    "        [0,4,9,2,0,6,0,0,7]]"
   ]
  },
  {
   "cell_type": "code",
   "execution_count": 3,
   "metadata": {},
   "outputs": [],
   "source": [
    "sudoko = np.array(board).reshape(9,9)"
   ]
  },
  {
   "cell_type": "code",
   "execution_count": 4,
   "metadata": {},
   "outputs": [
    {
     "data": {
      "text/plain": [
       "array([[7, 8, 0, 4, 0, 0, 1, 2, 0],\n",
       "       [6, 0, 0, 0, 7, 5, 0, 0, 9],\n",
       "       [0, 0, 0, 6, 0, 1, 0, 7, 8],\n",
       "       [0, 0, 7, 0, 4, 0, 2, 6, 0],\n",
       "       [0, 0, 1, 0, 5, 0, 9, 3, 0],\n",
       "       [9, 0, 4, 0, 6, 0, 0, 0, 5],\n",
       "       [0, 7, 0, 3, 0, 0, 0, 1, 2],\n",
       "       [1, 2, 0, 0, 0, 7, 4, 0, 0],\n",
       "       [0, 4, 9, 2, 0, 6, 0, 0, 7]])"
      ]
     },
     "execution_count": 4,
     "metadata": {},
     "output_type": "execute_result"
    }
   ],
   "source": [
    "sudoko"
   ]
  },
  {
   "cell_type": "markdown",
   "metadata": {},
   "source": [
    "## Get Column"
   ]
  },
  {
   "cell_type": "code",
   "execution_count": 5,
   "metadata": {},
   "outputs": [
    {
     "data": {
      "text/plain": [
       "array([7, 6, 0, 0, 0, 9, 0, 1, 0])"
      ]
     },
     "execution_count": 5,
     "metadata": {},
     "output_type": "execute_result"
    }
   ],
   "source": [
    "sudoko[ : , 0]"
   ]
  },
  {
   "cell_type": "markdown",
   "metadata": {},
   "source": [
    "## Get Raw"
   ]
  },
  {
   "cell_type": "code",
   "execution_count": 6,
   "metadata": {},
   "outputs": [
    {
     "data": {
      "text/plain": [
       "array([7, 8, 0, 4, 0, 0, 1, 2, 0])"
      ]
     },
     "execution_count": 6,
     "metadata": {},
     "output_type": "execute_result"
    }
   ],
   "source": [
    "sudoko[0]"
   ]
  },
  {
   "cell_type": "code",
   "execution_count": 7,
   "metadata": {},
   "outputs": [
    {
     "data": {
      "text/plain": [
       "(True, True)"
      ]
     },
     "execution_count": 7,
     "metadata": {},
     "output_type": "execute_result"
    }
   ],
   "source": [
    "2 in sudoko[ : , 3] , 2 in sudoko[6]"
   ]
  },
  {
   "cell_type": "markdown",
   "metadata": {},
   "source": [
    "# Get subgrid 1"
   ]
  },
  {
   "cell_type": "code",
   "execution_count": 8,
   "metadata": {},
   "outputs": [],
   "source": [
    "SG1 = sudoko[0:3 , 0:3]"
   ]
  },
  {
   "cell_type": "code",
   "execution_count": 9,
   "metadata": {},
   "outputs": [
    {
     "data": {
      "text/plain": [
       "array([[7, 8, 0],\n",
       "       [6, 0, 0],\n",
       "       [0, 0, 0]])"
      ]
     },
     "execution_count": 9,
     "metadata": {},
     "output_type": "execute_result"
    }
   ],
   "source": [
    "SG1"
   ]
  },
  {
   "cell_type": "code",
   "execution_count": 10,
   "metadata": {},
   "outputs": [
    {
     "data": {
      "text/plain": [
       "True"
      ]
     },
     "execution_count": 10,
     "metadata": {},
     "output_type": "execute_result"
    }
   ],
   "source": [
    "8 in SG1"
   ]
  },
  {
   "cell_type": "code",
   "execution_count": 11,
   "metadata": {},
   "outputs": [
    {
     "data": {
      "text/plain": [
       "0"
      ]
     },
     "execution_count": 11,
     "metadata": {},
     "output_type": "execute_result"
    }
   ],
   "source": [
    "sudoko[2][2]"
   ]
  },
  {
   "cell_type": "markdown",
   "metadata": {},
   "source": [
    "## Dividing Board to 9 subboards (1,4,7 - first raw)"
   ]
  },
  {
   "cell_type": "code",
   "execution_count": 12,
   "metadata": {},
   "outputs": [],
   "source": [
    "def idGrid(x,y, num):\n",
    "    if x in [0,1,2] and y in [0,1,2]: \n",
    "        return num in sudoko[0: 3, 0: 3]\n",
    "    if x in [3,4,5] and y in [0,1,2]: \n",
    "        return num in sudoko[3: 6, 0: 3]\n",
    "    if x in [6,7,8] and y in [0,1,2]:\n",
    "        return num in sudoko[6: 9, 0: 3]\n",
    "    if x in [0,1,2] and y in [3,4,5]:\n",
    "        return num in sudoko[0: 3, 3: 6]\n",
    "    if x in [3,4,5] and y in [3,4,5]:\n",
    "        return num in sudoko[3: 6, 3: 6]\n",
    "    if x in [6,7,8] and y in [3,4,5]:\n",
    "        return num in sudoko[6: 9, 3: 6]\n",
    "    if x in [0,1,2] and y in [6,7,8]:\n",
    "        return num in sudoko[0: 3, 6: 9]\n",
    "    if x in [3,4,5] and y in [6,7,8]:\n",
    "        return num in sudoko[3: 6, 6: 9]\n",
    "    if x in [6,7,8] and y in [6,7,8]:\n",
    "        return num in sudoko[6: 9, 6: 9]\n",
    "   "
   ]
  },
  {
   "cell_type": "code",
   "execution_count": 13,
   "metadata": {},
   "outputs": [
    {
     "data": {
      "text/plain": [
       "False"
      ]
     },
     "execution_count": 13,
     "metadata": {},
     "output_type": "execute_result"
    }
   ],
   "source": [
    "idGrid(2, 7, 3)"
   ]
  },
  {
   "cell_type": "markdown",
   "metadata": {},
   "source": [
    "## Function to get the \"0\" => Valid/ Empty slots that needs filing"
   ]
  },
  {
   "cell_type": "code",
   "execution_count": 14,
   "metadata": {},
   "outputs": [],
   "source": [
    "def isZero():\n",
    "    return [[x, y] for x in range(9) for y in range(9) if sudoko[x][y] == 0]"
   ]
  },
  {
   "cell_type": "code",
   "execution_count": 15,
   "metadata": {},
   "outputs": [],
   "source": [
    "#isZero()"
   ]
  },
  {
   "cell_type": "markdown",
   "metadata": {},
   "source": [
    "## Function to state whether a guess is possible or not"
   ]
  },
  {
   "cell_type": "code",
   "execution_count": 16,
   "metadata": {},
   "outputs": [],
   "source": [
    "def validGuess(x,y,gs):\n",
    "    if gs in sudoko[x]:\n",
    "        return False\n",
    "    if gs in sudoko[ : ,y]:\n",
    "        return False\n",
    "    if idGrid(x,y,gs):\n",
    "        return False\n",
    "    return True"
   ]
  },
  {
   "cell_type": "code",
   "execution_count": 17,
   "metadata": {},
   "outputs": [],
   "source": [
    "#validGuess(7 , 7, 4)"
   ]
  },
  {
   "cell_type": "markdown",
   "metadata": {},
   "source": [
    "## Funcation to solve the Sudoku using BackTrack"
   ]
  },
  {
   "cell_type": "code",
   "execution_count": 18,
   "metadata": {},
   "outputs": [],
   "source": [
    "def solveSudoku():\n",
    "    if len(isZero()) == 0:\n",
    "        print(sudoko)\n",
    "        return True \n",
    "        \n",
    "#     if isZero() == []:\n",
    "#         print(\"No Zeros!\")\n",
    "#         print(isZero())\n",
    "#         return False\n",
    "    \n",
    "    empty_slot = isZero()[0]\n",
    "    \n",
    "    for k in range(1,10):\n",
    "        if validGuess(empty_slot[0], empty_slot[1], k):\n",
    "#             print(isZero()[0])\n",
    "            sudoko[empty_slot[0]][empty_slot[1]] = k\n",
    "#             print(sudoko)\n",
    "#             print(\"\\n\")\n",
    "            \n",
    "            if solveSudoku():\n",
    "                return \"Solved!!\"\n",
    "            \n",
    "            sudoko[empty_slot[0]][empty_slot[1]] = 0\n",
    "           \n",
    "            \n",
    "#     return False\n",
    "                   \n",
    "       \n",
    "    "
   ]
  },
  {
   "cell_type": "code",
   "execution_count": 19,
   "metadata": {},
   "outputs": [
    {
     "name": "stdout",
     "output_type": "stream",
     "text": [
      "[[7 8 5 4 3 9 1 2 6]\n",
      " [6 1 2 8 7 5 3 4 9]\n",
      " [4 9 3 6 2 1 5 7 8]\n",
      " [8 5 7 9 4 3 2 6 1]\n",
      " [2 6 1 7 5 8 9 3 4]\n",
      " [9 3 4 1 6 2 7 8 5]\n",
      " [5 7 8 3 9 4 6 1 2]\n",
      " [1 2 6 5 8 7 4 9 3]\n",
      " [3 4 9 2 1 6 8 5 7]]\n"
     ]
    },
    {
     "data": {
      "text/plain": [
       "'Solved!!'"
      ]
     },
     "execution_count": 19,
     "metadata": {},
     "output_type": "execute_result"
    }
   ],
   "source": [
    "solveSudoku()"
   ]
  },
  {
   "cell_type": "code",
   "execution_count": null,
   "metadata": {},
   "outputs": [],
   "source": []
  },
  {
   "cell_type": "code",
   "execution_count": null,
   "metadata": {},
   "outputs": [],
   "source": []
  },
  {
   "cell_type": "code",
   "execution_count": null,
   "metadata": {},
   "outputs": [],
   "source": []
  },
  {
   "cell_type": "code",
   "execution_count": null,
   "metadata": {},
   "outputs": [],
   "source": []
  },
  {
   "cell_type": "code",
   "execution_count": null,
   "metadata": {},
   "outputs": [],
   "source": []
  },
  {
   "cell_type": "code",
   "execution_count": null,
   "metadata": {},
   "outputs": [],
   "source": []
  }
 ],
 "metadata": {
  "kernelspec": {
   "display_name": "Python 3",
   "language": "python",
   "name": "python3"
  },
  "language_info": {
   "codemirror_mode": {
    "name": "ipython",
    "version": 3
   },
   "file_extension": ".py",
   "mimetype": "text/x-python",
   "name": "python",
   "nbconvert_exporter": "python",
   "pygments_lexer": "ipython3",
   "version": "3.7.3"
  }
 },
 "nbformat": 4,
 "nbformat_minor": 4
}
